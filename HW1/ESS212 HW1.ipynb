{
 "cells": [
  {
   "cell_type": "code",
   "execution_count": 1,
   "id": "37342d53",
   "metadata": {},
   "outputs": [],
   "source": [
    "# Question 2 in repository "
   ]
  },
  {
   "cell_type": "code",
   "execution_count": 1,
   "id": "867f7dce",
   "metadata": {},
   "outputs": [],
   "source": [
    "# Question 3\n",
    "#describe the internal state of the programs during the computational process"
   ]
  },
  {
   "cell_type": "code",
   "execution_count": 1,
   "id": "ccba13f4",
   "metadata": {},
   "outputs": [],
   "source": [
    "# recursive function \n",
    "\n",
    "def S1_rec(n):  # define a function and name as \"S1_rec\", n as variable(positive integer)\n",
    "    if n>1:     # it is a base case, when n>1 (starting with 2), then S(n)= n + S(n-1)\n",
    "        S = n+S1_rec(n-1)\n",
    "    else:        # if n=1, then S=1, meaning S(1)=1\n",
    "        S = 1\n",
    "    return S"
   ]
  },
  {
   "cell_type": "code",
   "execution_count": 2,
   "id": "9a515c20",
   "metadata": {},
   "outputs": [
    {
     "name": "stdout",
     "output_type": "stream",
     "text": [
      "21\n"
     ]
    }
   ],
   "source": [
    "print(S1_rec(6))"
   ]
  },
  {
   "cell_type": "code",
   "execution_count": 3,
   "id": "e574bcdb",
   "metadata": {},
   "outputs": [],
   "source": [
    "# iteration function \n",
    "\n",
    "def S1_iter(n):   # define a function as \"S1_iter\", n as positive integaer.\n",
    "    S=0;          # define initial condition that S = 0 \n",
    "    for i in range (1, n+1):     # creating loop, for i in range from 1 to n+1, S(n)=S(n-1)+i\n",
    "        S = S+i\n",
    "    return S"
   ]
  },
  {
   "cell_type": "code",
   "execution_count": 4,
   "id": "95908d7c",
   "metadata": {},
   "outputs": [
    {
     "name": "stdout",
     "output_type": "stream",
     "text": [
      "21\n"
     ]
    }
   ],
   "source": [
    "print(S1_iter(6))"
   ]
  },
  {
   "cell_type": "code",
   "execution_count": 5,
   "id": "26e50dc6",
   "metadata": {},
   "outputs": [],
   "source": [
    "# Write and test to evaluate O1(n) using iterative algorithm \n",
    "\n",
    "def O1_iter(n):\n",
    "    O = 1;\n",
    "    for i in range (1, n):\n",
    "        O = O + (2*i+1)\n",
    "    return O"
   ]
  },
  {
   "cell_type": "code",
   "execution_count": 6,
   "id": "4a473e4a",
   "metadata": {},
   "outputs": [
    {
     "name": "stdout",
     "output_type": "stream",
     "text": [
      "49\n"
     ]
    }
   ],
   "source": [
    "print (O1_iter(7))"
   ]
  },
  {
   "cell_type": "code",
   "execution_count": 7,
   "id": "aea04d51",
   "metadata": {},
   "outputs": [],
   "source": [
    "# Write and test to evaluate S2(n) using iterative algorithm \n",
    "\n",
    "def S2_iter(n):\n",
    "    S2 = 0;\n",
    "    for i in range (1,n+1):\n",
    "        S2 = S2+(i**2)\n",
    "    return S2\n"
   ]
  },
  {
   "cell_type": "code",
   "execution_count": 8,
   "id": "4c63556d",
   "metadata": {},
   "outputs": [
    {
     "name": "stdout",
     "output_type": "stream",
     "text": [
      "55\n"
     ]
    }
   ],
   "source": [
    "print (S2_iter(5))"
   ]
  },
  {
   "cell_type": "code",
   "execution_count": 9,
   "id": "3011ce8c",
   "metadata": {},
   "outputs": [],
   "source": [
    "#Question 4"
   ]
  },
  {
   "cell_type": "code",
   "execution_count": null,
   "id": "5a959cda",
   "metadata": {},
   "outputs": [],
   "source": [
    "# Write a procedure that uses Euqation (7) evaluate C(n,k) using a recursive algorithm\n",
    "# Eq.7 --> C(n,k)=C(n-1,k-1)+C(n-1,k)"
   ]
  },
  {
   "cell_type": "code",
   "execution_count": 10,
   "id": "b53370d7",
   "metadata": {},
   "outputs": [
    {
     "name": "stdout",
     "output_type": "stream",
     "text": [
      "1 5 10 10 5 1 \n"
     ]
    }
   ],
   "source": [
    "# Recursive Algorithm\n",
    "\n",
    "def binomial_coefficient(n, k):\n",
    "    if k == 0 or k == n:\n",
    "        return 1\n",
    "    return binomial_coefficient(n-1, k-1) + binomial_coefficient(n-1, k)\n",
    "\n",
    "# Write a procedure that takes an interger n as input and prints out the n-th row of Pascal's triangle\n",
    "\n",
    "def pascals_row(n):\n",
    "    for k in range(n + 1):\n",
    "        print(binomial_coefficient(n, k), end=\" \")\n",
    "    print()\n",
    "\n",
    "\n",
    "pascals_row(5)\n"
   ]
  },
  {
   "cell_type": "code",
   "execution_count": null,
   "id": "8adf6b46",
   "metadata": {},
   "outputs": [],
   "source": [
    "# Question 5"
   ]
  },
  {
   "cell_type": "code",
   "execution_count": 13,
   "id": "49e49bec",
   "metadata": {},
   "outputs": [],
   "source": [
    "def evaluate_Sn (a, n, r):\n",
    "    if r == 1:\n",
    "        return n*a \n",
    "    else:\n",
    "        return a*(1-r**n)/ (1-r)\n",
    "    \n"
   ]
  },
  {
   "cell_type": "code",
   "execution_count": 16,
   "id": "1197f93f",
   "metadata": {},
   "outputs": [
    {
     "name": "stdout",
     "output_type": "stream",
     "text": [
      "6\n",
      "86.0\n"
     ]
    }
   ],
   "source": [
    "# test\n",
    "print(evaluate_Sn (2,3,1))\n",
    "print(evaluate_Sn (2,3,6))"
   ]
  },
  {
   "cell_type": "code",
   "execution_count": 17,
   "id": "5d91f3a0",
   "metadata": {},
   "outputs": [],
   "source": [
    "import unittest"
   ]
  },
  {
   "cell_type": "code",
   "execution_count": 18,
   "id": "12feafbe",
   "metadata": {},
   "outputs": [
    {
     "name": "stderr",
     "output_type": "stream",
     "text": [
      "E\n",
      "======================================================================\n",
      "ERROR: /Users/niulurui/Library/Jupyter/runtime/kernel-e3bc611e-4cd6-4a41-b72f-591a46f9a2d0 (unittest.loader._FailedTest)\n",
      "----------------------------------------------------------------------\n",
      "AttributeError: module '__main__' has no attribute '/Users/niulurui/Library/Jupyter/runtime/kernel-e3bc611e-4cd6-4a41-b72f-591a46f9a2d0'\n",
      "\n",
      "----------------------------------------------------------------------\n",
      "Ran 1 test in 0.003s\n",
      "\n",
      "FAILED (errors=1)\n"
     ]
    },
    {
     "ename": "SystemExit",
     "evalue": "True",
     "output_type": "error",
     "traceback": [
      "An exception has occurred, use %tb to see the full traceback.\n",
      "\u001b[0;31mSystemExit\u001b[0m\u001b[0;31m:\u001b[0m True\n"
     ]
    },
    {
     "name": "stderr",
     "output_type": "stream",
     "text": [
      "/Users/niulurui/opt/anaconda3/lib/python3.9/site-packages/IPython/core/interactiveshell.py:3452: UserWarning: To exit: use 'exit', 'quit', or Ctrl-D.\n",
      "  warn(\"To exit: use 'exit', 'quit', or Ctrl-D.\", stacklevel=1)\n"
     ]
    }
   ],
   "source": [
    "class TestEvaluate_Sn(unittest.TestCase):\n",
    "    def test_negative_r(self):\n",
    "        self.assertAlmostEqual(evaluate_Sn(2, 5, -0.5), 0.9636)\n",
    "\n",
    "    def test_zero_r(self):\n",
    "        self.assertEqual(evaluate_Sn(2, 5, 0), 0)\n",
    "\n",
    "    def test_r_between_0_and_1(self):\n",
    "        self.assertAlmostEqual(evaluate_Sn(2, 5, 0.5), 1.9375)\n",
    "\n",
    "    def test_r_equals_1(self):\n",
    "        self.assertEqual(evaluate_Sn(2, 5, 1), 5)\n",
    "\n",
    "    def test_r_greater_than_1(self):\n",
    "        self.assertEqual(evaluate_Sn(2, 5, 2), 6)\n",
    "\n",
    "if __name__ == '__main__':\n",
    "    unittest.main()\n"
   ]
  },
  {
   "cell_type": "code",
   "execution_count": null,
   "id": "a0442ace",
   "metadata": {},
   "outputs": [],
   "source": [
    "# For what values of r does the limit lim n-->infinite Sn exist? what is the limiting value?\n",
    "\n",
    "# when 0<|r|<1, the series converge and the limit exists as the limiting value a/1-r\n",
    "# when |r|>1, the series diverge and the lim Sn does not exist. \n",
    "# when r=1, the formula Sn does not exist."
   ]
  }
 ],
 "metadata": {
  "kernelspec": {
   "display_name": "Python 3 (ipykernel)",
   "language": "python",
   "name": "python3"
  },
  "language_info": {
   "codemirror_mode": {
    "name": "ipython",
    "version": 3
   },
   "file_extension": ".py",
   "mimetype": "text/x-python",
   "name": "python",
   "nbconvert_exporter": "python",
   "pygments_lexer": "ipython3",
   "version": "3.9.7"
  }
 },
 "nbformat": 4,
 "nbformat_minor": 5
}
