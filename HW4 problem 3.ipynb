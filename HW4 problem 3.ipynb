{
 "cells": [
  {
   "cell_type": "code",
   "execution_count": 18,
   "id": "81849ae5",
   "metadata": {},
   "outputs": [],
   "source": [
    "import numpy as np\n",
    "from scipy.optimize import minimize\n",
    "from scipy.stats import norm"
   ]
  },
  {
   "cell_type": "code",
   "execution_count": 2,
   "id": "fde43ca1",
   "metadata": {},
   "outputs": [],
   "source": [
    "# take ln(y ij)\n",
    "# ln(y ij)= mu + b tj+ epsilon ij\n",
    "t = np.array([1, 2, 3, 4, 5])\n",
    "y = np.array([\n",
    "    [3.75, 0.36, 0.58, 2.06],\n",
    "    [0.93, 0.32, 0.67, 1.01],\n",
    "    [0.38, 0.11, 0.12, 0.60],\n",
    "    [0.05, 0.15, 0.05, 0.11],\n",
    "    [0.04, 0.03, 0.08, 0.06]\n",
    "])"
   ]
  },
  {
   "cell_type": "code",
   "execution_count": 7,
   "id": "4ee6b42b",
   "metadata": {},
   "outputs": [],
   "source": [
    "ln_y = np.log(y)\n",
    "sigma = np.std(ln_y)"
   ]
  },
  {
   "cell_type": "code",
   "execution_count": 19,
   "id": "05d570fe",
   "metadata": {},
   "outputs": [
    {
     "name": "stdout",
     "output_type": "stream",
     "text": [
      "Estimated mu: 1.0638558560928266\n",
      "Estimated b: 0.839465806268582\n",
      "Estimated sigma: 0.6522400923496606\n"
     ]
    }
   ],
   "source": [
    "# Define the likelihood function\n",
    "def negative_log_likelihood(params):\n",
    "    mu, b, sigma = params\n",
    "    predicted = mu - b * t[:, None]  # mu - b*t for each time point\n",
    "    # The total log-likelihood is the sum of log-likelihoods for all observations\n",
    "    log_likelihood = np.sum(norm.logpdf(ln_y, loc=predicted, scale=sigma))\n",
    "    # Return the negative log-likelihood for minimization\n",
    "    return -log_likelihood\n",
    "\n",
    "# Initial guesses for mu, b, and sigma\n",
    "initial_guess = [0, 0, 1]\n",
    "\n",
    "# Minimize the negative log-likelihood\n",
    "result = minimize(negative_log_likelihood, initial_guess)\n",
    "\n",
    "# The result's 'x' attribute will be the estimated parameters\n",
    "mu_estimate, b_estimate, sigma_estimate = result.x\n",
    "\n",
    "print(f\"Estimated mu: {mu_estimate}\")\n",
    "print(f\"Estimated b: {b_estimate}\")\n",
    "print(f\"Estimated sigma: {sigma_estimate}\")\n"
   ]
  },
  {
   "cell_type": "code",
   "execution_count": 30,
   "id": "14059605",
   "metadata": {},
   "outputs": [
    {
     "name": "stdout",
     "output_type": "stream",
     "text": [
      "[[1 2 3 4 5 1 2 3 4 5 1 2 3 4 5 1 2 3 4 5]]\n",
      "[[1. 1.]\n",
      " [1. 2.]\n",
      " [1. 3.]\n",
      " [1. 4.]\n",
      " [1. 5.]\n",
      " [1. 1.]\n",
      " [1. 2.]\n",
      " [1. 3.]\n",
      " [1. 4.]\n",
      " [1. 5.]\n",
      " [1. 1.]\n",
      " [1. 2.]\n",
      " [1. 3.]\n",
      " [1. 4.]\n",
      " [1. 5.]\n",
      " [1. 1.]\n",
      " [1. 2.]\n",
      " [1. 3.]\n",
      " [1. 4.]\n",
      " [1. 5.]]\n"
     ]
    }
   ],
   "source": [
    "# try to wirte without package \n",
    "repeated_matrix = np.tile(t, (1, 4))  \n",
    "ones = np.ones(20)\n",
    "print(repeated_matrix)\n",
    "\n",
    "A = np.vstack((ones,repeated_matrix)).T\n",
    "print(A)\n",
    "\n",
    "B = np.array([[0], [0]])  # Initial parameter vector, [mu,b]\n",
    "\n"
   ]
  },
  {
   "cell_type": "code",
   "execution_count": 31,
   "id": "3fd94b91",
   "metadata": {},
   "outputs": [],
   "source": [
    "def posterior(A, B, y, sigma):\n",
    "    residuals = ln_y - A @ B  \n",
    "    return (1 / (sigma) ** 11) * np.exp(-0.5 * (residuals.T @ residuals) / sigma**2)\n"
   ]
  },
  {
   "cell_type": "code",
   "execution_count": 35,
   "id": "5c10202c",
   "metadata": {},
   "outputs": [
    {
     "ename": "ValueError",
     "evalue": "matmul: Input operand 1 has a mismatch in its core dimension 0, with gufunc signature (n?,k),(k,m?)->(n?,m?) (size 5 is different from 20)",
     "output_type": "error",
     "traceback": [
      "\u001b[0;31m---------------------------------------------------------------------------\u001b[0m",
      "\u001b[0;31mValueError\u001b[0m                                Traceback (most recent call last)",
      "\u001b[0;32m/var/folders/hg/40p4q8vn7d9g0mjyttz8nz980000gn/T/ipykernel_9298/1351409112.py\u001b[0m in \u001b[0;36m<module>\u001b[0;34m\u001b[0m\n\u001b[1;32m      3\u001b[0m \u001b[0;34m\u001b[0m\u001b[0m\n\u001b[1;32m      4\u001b[0m \u001b[0;31m# Performing the linear regression calculation\u001b[0m\u001b[0;34m\u001b[0m\u001b[0;34m\u001b[0m\u001b[0m\n\u001b[0;32m----> 5\u001b[0;31m \u001b[0mB_estimated\u001b[0m \u001b[0;34m=\u001b[0m \u001b[0mnp\u001b[0m\u001b[0;34m.\u001b[0m\u001b[0mlinalg\u001b[0m\u001b[0;34m.\u001b[0m\u001b[0minv\u001b[0m\u001b[0;34m(\u001b[0m\u001b[0mA\u001b[0m\u001b[0;34m.\u001b[0m\u001b[0mT\u001b[0m \u001b[0;34m@\u001b[0m \u001b[0mA\u001b[0m\u001b[0;34m)\u001b[0m \u001b[0;34m@\u001b[0m \u001b[0mA\u001b[0m\u001b[0;34m.\u001b[0m\u001b[0mT\u001b[0m \u001b[0;34m@\u001b[0m \u001b[0my_sample\u001b[0m\u001b[0;34m\u001b[0m\u001b[0;34m\u001b[0m\u001b[0m\n\u001b[0m\u001b[1;32m      6\u001b[0m \u001b[0;34m\u001b[0m\u001b[0m\n\u001b[1;32m      7\u001b[0m \u001b[0mprint\u001b[0m\u001b[0;34m(\u001b[0m\u001b[0;34m\"Estimated parameters (mu, b):\"\u001b[0m\u001b[0;34m,\u001b[0m \u001b[0mB_estimated\u001b[0m\u001b[0;34m)\u001b[0m\u001b[0;34m\u001b[0m\u001b[0;34m\u001b[0m\u001b[0m\n",
      "\u001b[0;31mValueError\u001b[0m: matmul: Input operand 1 has a mismatch in its core dimension 0, with gufunc signature (n?,k),(k,m?)->(n?,m?) (size 5 is different from 20)"
     ]
    }
   ],
   "source": [
    "# Assuming this is your dependent variable (taking the first column as an example)\n",
    "y_sample = y[:, 0]  # Change this if you meant something else\n",
    "\n",
    "# Performing the linear regression calculation\n",
    "B_estimated = np.linalg.inv(A.T @ A) @ A.T @ y_sample\n",
    "\n",
    "print(\"Estimated parameters (mu, b):\", B_estimated)\n",
    "\n"
   ]
  },
  {
   "cell_type": "code",
   "execution_count": 37,
   "id": "b0dd0a37",
   "metadata": {},
   "outputs": [
    {
     "name": "stdout",
     "output_type": "stream",
     "text": [
      "Estimated parameters (mu, b): [ 3.52 -0.83]\n"
     ]
    }
   ],
   "source": [
    "# try another method\n",
    "t = np.array([1, 2, 3, 4, 5])\n",
    "\n",
    "# Creating the design matrix A\n",
    "ones = np.ones(len(t))  # Match the length of t\n",
    "A = np.column_stack((ones, t))  # This creates your design matrix for linear regression\n",
    "# Assuming this is your dependent variable (taking the first column as an example)\n",
    "y_sample = y[:, 0]  # Change this if you meant something else\n",
    "\n",
    "# Performing the linear regression calculation\n",
    "B_estimated = np.linalg.inv(A.T @ A) @ A.T @ y_sample\n",
    "\n",
    "print(\"Estimated parameters (mu, b):\", B_estimated)\n"
   ]
  },
  {
   "cell_type": "code",
   "execution_count": 41,
   "id": "507c0275",
   "metadata": {},
   "outputs": [],
   "source": [
    "sigma_sqrt = np.dot(residuals, residuals.T)"
   ]
  },
  {
   "cell_type": "code",
   "execution_count": 42,
   "id": "65750b08",
   "metadata": {},
   "outputs": [
    {
     "name": "stdout",
     "output_type": "stream",
     "text": [
      "Estimated parameters (sigma): 0.0013896980239839919\n"
     ]
    }
   ],
   "source": [
    "sigma_sqrt = sigma_sqrt/11\n",
    "print(\"Estimated parameters (sigma):\", sigma_sqrt)"
   ]
  },
  {
   "cell_type": "code",
   "execution_count": null,
   "id": "41b76d00",
   "metadata": {},
   "outputs": [],
   "source": []
  }
 ],
 "metadata": {
  "kernelspec": {
   "display_name": "Python 3 (ipykernel)",
   "language": "python",
   "name": "python3"
  },
  "language_info": {
   "codemirror_mode": {
    "name": "ipython",
    "version": 3
   },
   "file_extension": ".py",
   "mimetype": "text/x-python",
   "name": "python",
   "nbconvert_exporter": "python",
   "pygments_lexer": "ipython3",
   "version": "3.9.7"
  }
 },
 "nbformat": 4,
 "nbformat_minor": 5
}
