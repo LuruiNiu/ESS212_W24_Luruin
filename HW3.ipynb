{
 "cells": [
  {
   "cell_type": "markdown",
   "id": "3323313e",
   "metadata": {},
   "source": [
    "## Q1 error vector "
   ]
  },
  {
   "cell_type": "code",
   "execution_count": 21,
   "id": "98bee140",
   "metadata": {},
   "outputs": [],
   "source": [
    "# error vector \n",
    "# from previous part: a= 1, b=-3,c=2\n",
    "import numpy as np"
   ]
  },
  {
   "cell_type": "code",
   "execution_count": 38,
   "id": "d57bec6c",
   "metadata": {},
   "outputs": [],
   "source": [
    "x = np.array ([-4, 0, 4])\n",
    "d = np.array ([30, 2, 6])"
   ]
  },
  {
   "cell_type": "code",
   "execution_count": 51,
   "id": "8f874e5f",
   "metadata": {},
   "outputs": [],
   "source": [
    "a = x**2\n",
    "b = x\n",
    "c = np.ones_like(x)"
   ]
  },
  {
   "cell_type": "code",
   "execution_count": 57,
   "id": "ea151067",
   "metadata": {},
   "outputs": [
    {
     "data": {
      "text/plain": [
       "array([[16, -4,  1],\n",
       "       [ 0,  0,  1],\n",
       "       [16,  4,  1]])"
      ]
     },
     "execution_count": 57,
     "metadata": {},
     "output_type": "execute_result"
    }
   ],
   "source": [
    "A = np.vstack((a, b, c)).T\n",
    "A"
   ]
  },
  {
   "cell_type": "code",
   "execution_count": 58,
   "id": "7e56ccf2",
   "metadata": {},
   "outputs": [],
   "source": [
    "P = A @ np.linalg.inv (A.T @ A) @ A.T @ d"
   ]
  },
  {
   "cell_type": "code",
   "execution_count": 59,
   "id": "400a7cba",
   "metadata": {},
   "outputs": [
    {
     "data": {
      "text/plain": [
       "array([0., 0., 0.])"
      ]
     },
     "execution_count": 59,
     "metadata": {},
     "output_type": "execute_result"
    }
   ],
   "source": [
    "e = d - P\n",
    "e"
   ]
  },
  {
   "cell_type": "markdown",
   "id": "69a8ea13",
   "metadata": {},
   "source": [
    "## Q1 Newton's method"
   ]
  },
  {
   "cell_type": "code",
   "execution_count": 61,
   "id": "e83717b2",
   "metadata": {},
   "outputs": [
    {
     "data": {
      "text/plain": [
       "array([1., 2., 1.])"
      ]
     },
     "execution_count": 61,
     "metadata": {},
     "output_type": "execute_result"
    }
   ],
   "source": [
    "from numpy.linalg import solve\n",
    "\n",
    "# Define the function F corresponding to the system of nonlinear equations\n",
    "def F(A, B, C):\n",
    "    return np.array([\n",
    "        A * (-4 - B) * (-4 - C) - 30,\n",
    "        A * (0 - B) * (0 - C) - 2,\n",
    "        A * (4 - B) * (4 - C) - 6\n",
    "    ])\n",
    "\n",
    "# Define the Jacobian matrix of the function F\n",
    "def J(A, B, C):\n",
    "    return np.array([\n",
    "        [(-4 - B) * (-4 - C), -A * (-4 - C), -A * (-4 - B)],\n",
    "        [(0 - B) * (0 - C), -A * (0 - C), -A * (0 - B)],\n",
    "        [(4 - B) * (4 - C), -A * (4 - C), -A * (4 - B)]\n",
    "    ])\n",
    "\n",
    "# Initial iterate\n",
    "beta = np.array([1, 2, 3])\n",
    "\n",
    "# Newton's method iteration\n",
    "for i in range(10):  # Perform 10 iterations\n",
    "    delta = np.linalg.solve(J(*beta), -F(*beta))\n",
    "    beta = beta + delta\n",
    "\n",
    "beta\n"
   ]
  },
  {
   "cell_type": "code",
   "execution_count": null,
   "id": "85acede5",
   "metadata": {},
   "outputs": [],
   "source": [
    "# A=0 can't be used as it eliminates the quadratic potential of model "
   ]
  },
  {
   "cell_type": "code",
   "execution_count": 64,
   "id": "ff82065b",
   "metadata": {},
   "outputs": [
    {
     "data": {
      "image/png": "[encoded data removed]",
      "text/plain": [
       "<Figure size 432x288 with 1 Axes>"
      ]
     },
     "metadata": {
      "needs_background": "light"
     },
     "output_type": "display_data"
    }
   ],
   "source": [
    "import matplotlib.pyplot as plt\n",
    "B_range = np.linspace (0, 10, 10)\n",
    "C_range = np.linspace (0, 10, 10)\n",
    "\n",
    "convergence = np.zeros((len(B_range), len(C_range))) #1 for covergence, 0 not\n",
    "\n",
    "def newtons_method (A, B, C, max_iter=50):\n",
    "    for i in range(max_iter):\n",
    "        pass\n",
    "    return False\n",
    "\n",
    "for i, B in enumerate (B_range):\n",
    "    for j, C in enumerate (C_range):\n",
    "        A = 1\n",
    "        if newtons_method (A, B, C):\n",
    "            convergence [i,j]=1\n",
    "            \n",
    "plt.imshow(convergence, extent= [B_range.min(), B_range.max(), C_range.min(), C_range.max()])\n",
    "plt.colorbar\n",
    "plt.xlabel ('B')\n",
    "plt.ylabel ('C')\n",
    "plt.show()"
   ]
  },
  {
   "cell_type": "markdown",
   "id": "776d9e6e",
   "metadata": {},
   "source": [
    "## Q2"
   ]
  },
  {
   "cell_type": "code",
   "execution_count": 2,
   "id": "ed0d5b80",
   "metadata": {},
   "outputs": [],
   "source": [
    "# The data is a time-series data set for temperature anomoly, \n",
    "# downloaded from site: https://ourworldindata.org/grapher/temperature-anomaly\n",
    "import pandas as pd\n",
    "import matplotlib.pyplot as plt\n"
   ]
  },
  {
   "cell_type": "code",
   "execution_count": 3,
   "id": "19357e1d",
   "metadata": {},
   "outputs": [],
   "source": [
    "df = pd.read_csv(\"temperature-anomaly.csv\") "
   ]
  },
  {
   "cell_type": "code",
   "execution_count": 4,
   "id": "2af9d5d6",
   "metadata": {},
   "outputs": [
    {
     "data": {
      "text/html": [
       "<div>\n",
       "<style scoped>\n",
       "    .dataframe tbody tr th:only-of-type {\n",
       "        vertical-align: middle;\n",
       "    }\n",
       "\n",
       "    .dataframe tbody tr th {\n",
       "        vertical-align: top;\n",
       "    }\n",
       "\n",
       "    .dataframe thead th {\n",
       "        text-align: right;\n",
       "    }\n",
       "</style>\n",
       "<table border=\"1\" class=\"dataframe\">\n",
       "  <thead>\n",
       "    <tr style=\"text-align: right;\">\n",
       "      <th></th>\n",
       "      <th>Year</th>\n",
       "      <th>Global average temperature anomaly relative to 1961-1990</th>\n",
       "    </tr>\n",
       "  </thead>\n",
       "  <tbody>\n",
       "    <tr>\n",
       "      <th>0</th>\n",
       "      <td>1850</td>\n",
       "      <td>-0.417659</td>\n",
       "    </tr>\n",
       "    <tr>\n",
       "      <th>1</th>\n",
       "      <td>1851</td>\n",
       "      <td>-0.233350</td>\n",
       "    </tr>\n",
       "    <tr>\n",
       "      <th>2</th>\n",
       "      <td>1852</td>\n",
       "      <td>-0.229399</td>\n",
       "    </tr>\n",
       "    <tr>\n",
       "      <th>3</th>\n",
       "      <td>1853</td>\n",
       "      <td>-0.270354</td>\n",
       "    </tr>\n",
       "    <tr>\n",
       "      <th>4</th>\n",
       "      <td>1854</td>\n",
       "      <td>-0.291630</td>\n",
       "    </tr>\n",
       "    <tr>\n",
       "      <th>...</th>\n",
       "      <td>...</td>\n",
       "      <td>...</td>\n",
       "    </tr>\n",
       "    <tr>\n",
       "      <th>169</th>\n",
       "      <td>2019</td>\n",
       "      <td>0.891073</td>\n",
       "    </tr>\n",
       "    <tr>\n",
       "      <th>170</th>\n",
       "      <td>2020</td>\n",
       "      <td>0.922794</td>\n",
       "    </tr>\n",
       "    <tr>\n",
       "      <th>171</th>\n",
       "      <td>2021</td>\n",
       "      <td>0.761856</td>\n",
       "    </tr>\n",
       "    <tr>\n",
       "      <th>172</th>\n",
       "      <td>2022</td>\n",
       "      <td>0.801284</td>\n",
       "    </tr>\n",
       "    <tr>\n",
       "      <th>173</th>\n",
       "      <td>2023</td>\n",
       "      <td>0.996559</td>\n",
       "    </tr>\n",
       "  </tbody>\n",
       "</table>\n",
       "<p>174 rows × 2 columns</p>\n",
       "</div>"
      ],
      "text/plain": [
       "     Year  Global average temperature anomaly relative to 1961-1990\n",
       "0    1850                                          -0.417659       \n",
       "1    1851                                          -0.233350       \n",
       "2    1852                                          -0.229399       \n",
       "3    1853                                          -0.270354       \n",
       "4    1854                                          -0.291630       \n",
       "..    ...                                                ...       \n",
       "169  2019                                           0.891073       \n",
       "170  2020                                           0.922794       \n",
       "171  2021                                           0.761856       \n",
       "172  2022                                           0.801284       \n",
       "173  2023                                           0.996559       \n",
       "\n",
       "[174 rows x 2 columns]"
      ]
     },
     "execution_count": 4,
     "metadata": {},
     "output_type": "execute_result"
    }
   ],
   "source": [
    "df = df[['Year','Global average temperature anomaly relative to 1961-1990']]\n",
    "df"
   ]
  },
  {
   "cell_type": "code",
   "execution_count": 5,
   "id": "89df1d32",
   "metadata": {},
   "outputs": [],
   "source": [
    "year = df[['Year']].values\n",
    "global_av_temp = df[['Global average temperature anomaly relative to 1961-1990']].values"
   ]
  },
  {
   "cell_type": "code",
   "execution_count": 6,
   "id": "622e6df2",
   "metadata": {},
   "outputs": [
    {
     "data": {
      "text/plain": [
       "Text(0, 0.5, 'global average temperature anomaly')"
      ]
     },
     "execution_count": 6,
     "metadata": {},
     "output_type": "execute_result"
    },
    {
     "data": {
      "image/png": "[encoded data removed]",
      "text/plain": [
       "<Figure size 432x288 with 1 Axes>"
      ]
     },
     "metadata": {
      "needs_background": "light"
     },
     "output_type": "display_data"
    }
   ],
   "source": [
    "plt.plot(year, global_av_temp)\n",
    "plt.xlabel ('Year')\n",
    "plt.ylabel ('global average temperature anomaly')"
   ]
  },
  {
   "cell_type": "code",
   "execution_count": 7,
   "id": "ea90b58e",
   "metadata": {},
   "outputs": [],
   "source": [
    "#1850-2023\n",
    "\n",
    "time_length = (year.max()-year.min())\n",
    "bar = (year.max()+year.min())/2"
   ]
  },
  {
   "cell_type": "code",
   "execution_count": 90,
   "id": "3cb2aeaa",
   "metadata": {},
   "outputs": [
    {
     "name": "stdout",
     "output_type": "stream",
     "text": [
      "Requirement already satisfied: scikit-learn in /Users/niulurui/opt/anaconda3/lib/python3.9/site-packages (0.24.2)\n",
      "Requirement already satisfied: numpy>=1.13.3 in /Users/niulurui/opt/anaconda3/lib/python3.9/site-packages (from scikit-learn) (1.24.3)\n",
      "Requirement already satisfied: scipy>=0.19.1 in /Users/niulurui/opt/anaconda3/lib/python3.9/site-packages (from scikit-learn) (1.7.1)\n",
      "Requirement already satisfied: joblib>=0.11 in /Users/niulurui/opt/anaconda3/lib/python3.9/site-packages (from scikit-learn) (1.1.0)\n",
      "Requirement already satisfied: threadpoolctl>=2.0.0 in /Users/niulurui/opt/anaconda3/lib/python3.9/site-packages (from scikit-learn) (2.2.0)\n",
      "Collecting numpy>=1.13.3 (from scikit-learn)\n",
      "  Downloading numpy-1.22.4-cp39-cp39-macosx_10_15_x86_64.whl.metadata (2.0 kB)\n",
      "Downloading numpy-1.22.4-cp39-cp39-macosx_10_15_x86_64.whl (17.7 MB)\n",
      "\u001b[2K   \u001b[90m━━━━━━━━━━━━━━━━━━━━━━━━━━━━━━━━━━━━━━━━\u001b[0m \u001b[32m17.7/17.7 MB\u001b[0m \u001b[31m16.4 MB/s\u001b[0m eta \u001b[36m0:00:00\u001b[0m00:01\u001b[0m00:01\u001b[0m\n",
      "\u001b[?25h\u001b[33mDEPRECATION: pyodbc 4.0.0-unsupported has a non-standard version number. pip 24.0 will enforce this behaviour change. A possible replacement is to upgrade to a newer version of pyodbc or contact the author to suggest that they release a version with a conforming version number. Discussion can be found at https://github.com/pypa/pip/issues/12063\u001b[0m\u001b[33m\n",
      "\u001b[0mInstalling collected packages: numpy\n",
      "  Attempting uninstall: numpy\n",
      "    Found existing installation: numpy 1.24.3\n",
      "    Uninstalling numpy-1.24.3:\n",
      "      Successfully uninstalled numpy-1.24.3\n",
      "\u001b[31mERROR: pip's dependency resolver does not currently take into account all the packages that are installed. This behaviour is the source of the following dependency conflicts.\n",
      "daal4py 2021.3.0 requires daal==2021.2.3, which is not installed.\u001b[0m\u001b[31m\n",
      "\u001b[0mSuccessfully installed numpy-1.22.4\n",
      "Note: you may need to restart the kernel to use updated packages.\n"
     ]
    }
   ],
   "source": [
    "pip install scikit-learn"
   ]
  },
  {
   "cell_type": "code",
   "execution_count": 8,
   "id": "acb46b26",
   "metadata": {},
   "outputs": [],
   "source": [
    "# linear regression \n",
    "from sklearn.linear_model import LinearRegression\n",
    "from sklearn.model_selection import train_test_split"
   ]
  },
  {
   "cell_type": "code",
   "execution_count": 9,
   "id": "d47958c8",
   "metadata": {},
   "outputs": [
    {
     "data": {
      "text/plain": [
       "LinearRegression()"
      ]
     },
     "execution_count": 9,
     "metadata": {},
     "output_type": "execute_result"
    }
   ],
   "source": [
    "model = LinearRegression()\n",
    "model.fit(year, global_av_temp)"
   ]
  },
  {
   "cell_type": "code",
   "execution_count": 10,
   "id": "ce467884",
   "metadata": {},
   "outputs": [],
   "source": [
    "temp_pred = model.predict(year)"
   ]
  },
  {
   "cell_type": "code",
   "execution_count": 16,
   "id": "f3d23ec9",
   "metadata": {},
   "outputs": [
    {
     "name": "stdout",
     "output_type": "stream",
     "text": [
      "Coefficients or slope: [[0.00633785]]\n",
      "Intercept: [-12.34603626]\n"
     ]
    }
   ],
   "source": [
    "print('Coefficients or slope:', model.coef_)\n",
    "print('Intercept:', model.intercept_)"
   ]
  },
  {
   "cell_type": "code",
   "execution_count": 15,
   "id": "d3de75a8",
   "metadata": {},
   "outputs": [
    {
     "data": {
      "image/png": "[encoded data removed]",
      "text/plain": [
       "<Figure size 432x288 with 1 Axes>"
      ]
     },
     "metadata": {
      "needs_background": "light"
     },
     "output_type": "display_data"
    }
   ],
   "source": [
    "plt.scatter(year, global_av_temp, color = 'blue', label = 'Actual data')\n",
    "plt.plot(year, temp_pred, color='black', label='Linear fit prediction')\n",
    "plt.xlabel('Year')\n",
    "plt.ylabel('Global average temperature anomaly relative to 1961-1990')\n",
    "plt.show()"
   ]
  },
  {
   "cell_type": "code",
   "execution_count": 17,
   "id": "f910b4e0",
   "metadata": {},
   "outputs": [
    {
     "name": "stdout",
     "output_type": "stream",
     "text": [
      "Standard deviation: 0.2007690376903123\n"
     ]
    }
   ],
   "source": [
    "diff = global_av_temp - temp_pred\n",
    "std = np.std (diff)\n",
    "print('Standard deviation:', std)"
   ]
  },
  {
   "cell_type": "markdown",
   "id": "36738c12",
   "metadata": {},
   "source": [
    "## Q3"
   ]
  },
  {
   "cell_type": "code",
   "execution_count": null,
   "id": "33350a69",
   "metadata": {},
   "outputs": [],
   "source": []
  }
 ],
 "metadata": {
  "kernelspec": {
   "display_name": "Python 3 (ipykernel)",
   "language": "python",
   "name": "python3"
  },
  "language_info": {
   "codemirror_mode": {
    "name": "ipython",
    "version": 3
   },
   "file_extension": ".py",
   "mimetype": "text/x-python",
   "name": "python",
   "nbconvert_exporter": "python",
   "pygments_lexer": "ipython3",
   "version": "3.9.7"
  }
 },
 "nbformat": 4,
 "nbformat_minor": 5
}
