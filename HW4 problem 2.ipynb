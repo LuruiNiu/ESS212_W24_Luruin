{
 "cells": [
  {
   "cell_type": "code",
   "execution_count": 1,
   "id": "73455879",
   "metadata": {},
   "outputs": [],
   "source": [
    "import numpy as np\n",
    "import matplotlib.pyplot as plt"
   ]
  },
  {
   "cell_type": "code",
   "execution_count": 7,
   "id": "73e7a83f",
   "metadata": {},
   "outputs": [],
   "source": [
    "# yi = mxi+ b +ei\n",
    "# design matrix\n",
    "# A = [np.ones(len(t)), x] B=[b m]\n",
    "t = np.array([0, 1, 2, 3, 4])\n",
    "y = np.array([0.0434, 1.0343, -0.2588, 3.68622, 4.3188])\n",
    "y_errors = np.array([0.1, 0.1, np.nan, np.nan, np.nan])\n",
    "\n",
    "A = np.vstack([np.ones(len(t)), t]).T  # Design matrix"
   ]
  },
  {
   "cell_type": "code",
   "execution_count": 8,
   "id": "9cf0aecc",
   "metadata": {},
   "outputs": [],
   "source": [
    "m, b = np.linalg.lstsq(A, y, rcond=None)[0]"
   ]
  },
  {
   "cell_type": "code",
   "execution_count": 10,
   "id": "1372e9b1",
   "metadata": {},
   "outputs": [
    {
     "data": {
      "text/plain": [
       "(-0.47575999999999985, 1.1202720000000002, 14.051555543770663)"
      ]
     },
     "execution_count": 10,
     "metadata": {},
     "output_type": "execute_result"
    }
   ],
   "source": [
    "residuals = y[2:] - (m * t[2:] + b)\n",
    "variance_estimate = np.mean(residuals**2)\n",
    "\n",
    "# Output initial m, b, and estimated error variance\n",
    "m, b, variance_estimate"
   ]
  }
 ],
 "metadata": {
  "kernelspec": {
   "display_name": "Python 3 (ipykernel)",
   "language": "python",
   "name": "python3"
  },
  "language_info": {
   "codemirror_mode": {
    "name": "ipython",
    "version": 3
   },
   "file_extension": ".py",
   "mimetype": "text/x-python",
   "name": "python",
   "nbconvert_exporter": "python",
   "pygments_lexer": "ipython3",
   "version": "3.9.7"
  }
 },
 "nbformat": 4,
 "nbformat_minor": 5
}
